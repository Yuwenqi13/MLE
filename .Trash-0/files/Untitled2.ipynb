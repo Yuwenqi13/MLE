{
 "cells": [
  {
   "cell_type": "code",
   "execution_count": 3,
   "id": "5bb309e9-634b-4528-a7da-429ed3918ead",
   "metadata": {},
   "outputs": [
    {
     "name": "stdout",
     "output_type": "stream",
     "text": [
      "gold table saved to datamart/gold/feature_store/gold_table_2024_07_01.parquet\n",
      "+-----------+-------------+--------------------+---------------+------+---------------+--------+-------+--------+-----------+-------+---+-------------------+-----------------+---+----+----+----+----------+----+----+----+----+----+----+----+----+----+-----+-----+-----+-----+-----+-----+-----+-----+-----+-----+-----+------------+---------+-------------+---------------------+-----------------+---------------+-------------+-----------+------------+-------------------+----------------------+--------------------+--------------------+----------+----------------+------------------------+------------------+---------------------+-------------------+-----------------------+-----------------+---------------+\n",
      "|Customer_ID|snapshot_date|             loan_id|loan_start_date|tenure|installment_num|loan_amt|due_amt|paid_amt|overdue_amt|balance|mob|installments_missed|first_missed_date|dpd|Name| Age| SSN|Occupation|fe_1|fe_2|fe_3|fe_4|fe_5|fe_6|fe_7|fe_8|fe_9|fe_10|fe_11|fe_12|fe_13|fe_14|fe_15|fe_16|fe_17|fe_18|fe_19|fe_20|total_clicks|is_active|Annual_Income|Monthly_Inhand_Salary|Num_Bank_Accounts|Num_Credit_Card|Interest_Rate|Num_of_Loan|Type_of_Loan|Delay_from_due_date|Num_of_Delayed_Payment|Changed_Credit_Limit|Num_Credit_Inquiries|Credit_Mix|Outstanding_Debt|Credit_Utilization_Ratio|Credit_History_Age|Payment_of_Min_Amount|Total_EMI_per_month|Amount_invested_monthly|Payment_Behaviour|Monthly_Balance|\n",
      "+-----------+-------------+--------------------+---------------+------+---------------+--------+-------+--------+-----------+-------+---+-------------------+-----------------+---+----+----+----+----------+----+----+----+----+----+----+----+----+----+-----+-----+-----+-----+-----+-----+-----+-----+-----+-----+-----+------------+---------+-------------+---------------------+-----------------+---------------+-------------+-----------+------------+-------------------+----------------------+--------------------+--------------------+----------+----------------+------------------------+------------------+---------------------+-------------------+-----------------------+-----------------+---------------+\n",
      "| CUS_0x100b|   2024-07-01|CUS_0x100b_2024_0...|     2024-03-01|    10|              4| 10000.0| 1000.0|  1000.0|        0.0| 6000.0|  4|                  0|             NULL|  0|NULL|NULL|NULL|      NULL| 111|   0|  38|   0|   0|   0|   0|  58|  58|  218|    0|   73|  108|   65|  136|   30|  157|    0|    0|  412|        1464|        1|         NULL|                 NULL|             NULL|           NULL|         NULL|       NULL|        NULL|               NULL|                  NULL|                NULL|                NULL|      NULL|            NULL|                    NULL|              NULL|                 NULL|               NULL|                   NULL|             NULL|           NULL|\n",
      "| CUS_0x1011|   2024-07-01|CUS_0x1011_2023_1...|     2023-11-01|    10|              8| 10000.0| 1000.0|  1000.0|        0.0| 2000.0|  8|                  0|             NULL|  0|NULL|NULL|NULL|      NULL| 251| 156|   0| 147| 100| 173|   0| 243| 207|   36|  199|    0|  210|   90|  102|    0|  271|  216|    0|   49|        2450|        1|         NULL|                 NULL|             NULL|           NULL|         NULL|       NULL|        NULL|               NULL|                  NULL|                NULL|                NULL|      NULL|            NULL|                    NULL|              NULL|                 NULL|               NULL|                   NULL|             NULL|           NULL|\n",
      "| CUS_0x1013|   2024-07-01|CUS_0x1013_2023_1...|     2023-12-01|    10|              7| 10000.0| 1000.0|  1000.0|        0.0| 3000.0|  7|                  0|             NULL|  0|NULL|NULL|NULL|      NULL| 199| 209| 141| 229| 143| 129| 263|   0|  57|  109|  126|  170|  176|  112|  137|   22|  189|   12|  180|  192|        2795|        1|         NULL|                 NULL|             NULL|           NULL|         NULL|       NULL|        NULL|               NULL|                  NULL|                NULL|                NULL|      NULL|            NULL|                    NULL|              NULL|                 NULL|               NULL|                   NULL|             NULL|           NULL|\n",
      "| CUS_0x1018|   2024-07-01|CUS_0x1018_2023_1...|     2023-11-01|    10|              8| 10000.0| 1000.0|     0.0|     5000.0| 7000.0|  8|                  5|       2024-02-01|151|NULL|NULL|NULL|      NULL| 261|   0| 202| 141|   0|  49|   0| 155| 307|    6|   35|  265|  172|   30|  114|  161|    0|  115|   82|  103|        2198|        1|         NULL|                 NULL|             NULL|           NULL|         NULL|       NULL|        NULL|               NULL|                  NULL|                NULL|                NULL|      NULL|            NULL|                    NULL|              NULL|                 NULL|               NULL|                   NULL|             NULL|           NULL|\n",
      "| CUS_0x1026|   2024-07-01|CUS_0x1026_2023_1...|     2023-10-01|    10|              9| 10000.0| 1000.0|  1000.0|        0.0| 1000.0|  9|                  0|             NULL|  0|NULL|NULL|NULL|      NULL| 247| 136| 119|  72| 113| 141|   0|  55| 104|    0|  181|  181|   24|  335|  118|  236|   19|    0|   30|  185|        2296|        1|         NULL|                 NULL|             NULL|           NULL|         NULL|       NULL|        NULL|               NULL|                  NULL|                NULL|                NULL|      NULL|            NULL|                    NULL|              NULL|                 NULL|               NULL|                   NULL|             NULL|           NULL|\n",
      "+-----------+-------------+--------------------+---------------+------+---------------+--------+-------+--------+-----------+-------+---+-------------------+-----------------+---+----+----+----+----------+----+----+----+----+----+----+----+----+----+-----+-----+-----+-----+-----+-----+-----+-----+-----+-----+-----+------------+---------+-------------+---------------------+-----------------+---------------+-------------+-----------+------------+-------------------+----------------------+--------------------+--------------------+----------+----------------+------------------------+------------------+---------------------+-------------------+-----------------------+-----------------+---------------+\n",
      "only showing top 5 rows\n",
      "\n"
     ]
    }
   ],
   "source": [
    "import os\n",
    "from pyspark.sql import Window\n",
    "import pyspark.sql.functions as F\n",
    "\n",
    "def process_features_gold_table(snapshot_date_str, \n",
    "                                silver_loan_daily_directory,  \n",
    "                                silver_clickstream_directory,\n",
    "                                silver_attributes_directory, \n",
    "                                silver_financials_directory,\n",
    "                                gold_features_store_directory,\n",
    "                                spark):\n",
    "    # 拼接文件路径，日期中的 - 替换成 _\n",
    "    loan_path = silver_loan_daily_directory + f\"silver_loan_daily_{snapshot_date_str.replace('-', '_')}.parquet\"\n",
    "    click_path = silver_clickstream_directory + f\"silver_clickstream_{snapshot_date_str.replace('-', '_')}.parquet\"\n",
    "    attr_path = silver_attributes_directory + f\"silver_attributes_{snapshot_date_str.replace('-', '_')}.parquet\"\n",
    "    financial_path = silver_financials_directory + f\"silver_financials_{snapshot_date_str.replace('-', '_')}.parquet\"\n",
    "    \n",
    "    # 读取 parquet 文件为DataFrame\n",
    "    loan_df = spark.read.parquet(loan_path)\n",
    "    attr_df = spark.read.parquet(attr_path)\n",
    "    click_df = spark.read.parquet(click_path)\n",
    "    financial_df = spark.read.parquet(financial_path)\n",
    "    \n",
    "    # 按 Customer_ID 和 snapshot_date 左连接所有表\n",
    "    df = loan_df.join(attr_df, [\"Customer_ID\", \"snapshot_date\"], \"left\")\n",
    "    df = df.join(click_df, [\"Customer_ID\", \"snapshot_date\"], \"left\")\n",
    "    df = df.join(financial_df, [\"Customer_ID\", \"snapshot_date\"], \"left\")\n",
    "\n",
    "    # 对每个Customer_ID和snapshot_date分区，按loan_id倒序排序，取第一条（最新的loan_id）\n",
    "    window_spec = Window.partitionBy(\"Customer_ID\", \"snapshot_date\").orderBy(F.desc(\"loan_id\"))\n",
    "    df = df.withColumn(\"rank\", F.row_number().over(window_spec)) \\\n",
    "           .filter(F.col(\"rank\") == 1) \\\n",
    "           .drop(\"rank\")\n",
    "\n",
    "    # 写gold表到指定目录，文件名带日期\n",
    "    gold_path = gold_features_store_directory + f\"gold_table_{snapshot_date_str.replace('-', '_')}.parquet\"\n",
    "    df.write.mode(\"overwrite\").parquet(gold_path)\n",
    "    print(f\"gold table saved to {gold_path}\")\n",
    "\n",
    "    return df\n",
    "\n",
    "\n",
    "# 下面是一个示例调用（你要保证spark session已创建）\n",
    "\n",
    "if __name__ == \"__main__\":\n",
    "    from pyspark.sql import SparkSession\n",
    "\n",
    "    spark = SparkSession.builder.appName(\"FeatureProcessing\").getOrCreate()\n",
    "\n",
    "    # 目录路径示例\n",
    "    gold_feature_store_directory = \"datamart/gold/feature_store/\"\n",
    "    silver_loan_daily_directory = \"datamart/silver/loan_daily/\"\n",
    "    silver_loan_directory_clickstream = \"datamart/silver/loan_clickstream/\"\n",
    "    silver_loan_directory_attributes = \"datamart/silver/loan_attributes/\"\n",
    "    silver_loan_directory_financials = \"datamart/silver/loan_financials/\"\n",
    "\n",
    "    # 确保目录存在\n",
    "    os.makedirs(gold_feature_store_directory, exist_ok=True)\n",
    "\n",
    "    # 日期列表举例\n",
    "    dates_str_lst = [\"2024-07-01\"]\n",
    "\n",
    "    for date_str in dates_str_lst:\n",
    "        df = process_features_gold_table(date_str, \n",
    "                                         silver_loan_daily_directory,  \n",
    "                                         silver_loan_directory_clickstream,\n",
    "                                         silver_loan_directory_attributes, \n",
    "                                         silver_loan_directory_financials,\n",
    "                                         gold_feature_store_directory,\n",
    "                                         spark)\n",
    "        df.show(5)\n"
   ]
  },
  {
   "cell_type": "code",
   "execution_count": 4,
   "id": "28f70dd9-734b-41f4-a79a-7cd7527b7fa6",
   "metadata": {},
   "outputs": [
    {
     "name": "stdout",
     "output_type": "stream",
     "text": [
      "['Customer_ID', 'snapshot_date', 'loan_id', 'loan_start_date', 'tenure', 'installment_num', 'loan_amt', 'due_amt', 'paid_amt', 'overdue_amt', 'balance', 'mob', 'installments_missed', 'first_missed_date', 'dpd', 'Name', 'Age', 'SSN', 'Occupation', 'fe_1', 'fe_2', 'fe_3', 'fe_4', 'fe_5', 'fe_6', 'fe_7', 'fe_8', 'fe_9', 'fe_10', 'fe_11', 'fe_12', 'fe_13', 'fe_14', 'fe_15', 'fe_16', 'fe_17', 'fe_18', 'fe_19', 'fe_20', 'total_clicks', 'is_active', 'Annual_Income', 'Monthly_Inhand_Salary', 'Num_Bank_Accounts', 'Num_Credit_Card', 'Interest_Rate', 'Num_of_Loan', 'Type_of_Loan', 'Delay_from_due_date', 'Num_of_Delayed_Payment', 'Changed_Credit_Limit', 'Num_Credit_Inquiries', 'Credit_Mix', 'Outstanding_Debt', 'Credit_Utilization_Ratio', 'Credit_History_Age', 'Payment_of_Min_Amount', 'Total_EMI_per_month', 'Amount_invested_monthly', 'Payment_Behaviour', 'Monthly_Balance']\n",
      "+----+----+--------+\n",
      "|fe_1|fe_2|loan_amt|\n",
      "+----+----+--------+\n",
      "| 111|   0| 10000.0|\n",
      "| 251| 156| 10000.0|\n",
      "| 199| 209| 10000.0|\n",
      "| 261|   0| 10000.0|\n",
      "| 247| 136| 10000.0|\n",
      "+----+----+--------+\n",
      "only showing top 5 rows\n",
      "\n"
     ]
    }
   ],
   "source": [
    "print(df.columns)\n",
    "df.select(\"fe_1\", \"fe_2\", \"loan_amt\").show(5)\n"
   ]
  }
 ],
 "metadata": {
  "kernelspec": {
   "display_name": "Python 3 (ipykernel)",
   "language": "python",
   "name": "python3"
  },
  "language_info": {
   "codemirror_mode": {
    "name": "ipython",
    "version": 3
   },
   "file_extension": ".py",
   "mimetype": "text/x-python",
   "name": "python",
   "nbconvert_exporter": "python",
   "pygments_lexer": "ipython3",
   "version": "3.12.10"
  }
 },
 "nbformat": 4,
 "nbformat_minor": 5
}

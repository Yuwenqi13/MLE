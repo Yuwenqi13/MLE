{
 "cells": [
  {
   "cell_type": "code",
   "execution_count": 11,
   "id": "e6675aa2",
   "metadata": {},
   "outputs": [
    {
     "name": "stdout",
     "output_type": "stream",
     "text": [
      "root\n",
      " |-- Customer_ID: string (nullable = true)\n",
      " |-- Annual_Income: string (nullable = true)\n",
      " |-- Monthly_Inhand_Salary: double (nullable = true)\n",
      " |-- Num_Bank_Accounts: integer (nullable = true)\n",
      " |-- Num_Credit_Card: integer (nullable = true)\n",
      " |-- Interest_Rate: integer (nullable = true)\n",
      " |-- Num_of_Loan: string (nullable = true)\n",
      " |-- Type_of_Loan: string (nullable = true)\n",
      " |-- Delay_from_due_date: integer (nullable = true)\n",
      " |-- Num_of_Delayed_Payment: string (nullable = true)\n",
      " |-- Changed_Credit_Limit: string (nullable = true)\n",
      " |-- Num_Credit_Inquiries: double (nullable = true)\n",
      " |-- Credit_Mix: string (nullable = true)\n",
      " |-- Outstanding_Debt: string (nullable = true)\n",
      " |-- Credit_Utilization_Ratio: double (nullable = true)\n",
      " |-- Credit_History_Age: string (nullable = true)\n",
      " |-- Payment_of_Min_Amount: string (nullable = true)\n",
      " |-- Total_EMI_per_month: double (nullable = true)\n",
      " |-- Amount_invested_monthly: string (nullable = true)\n",
      " |-- Payment_Behaviour: string (nullable = true)\n",
      " |-- Monthly_Balance: string (nullable = true)\n",
      " |-- snapshot_date: date (nullable = true)\n",
      "\n",
      "+-----------+------------------+---------------------+-----------------+---------------+-------------+-----------+--------------------+-------------------+----------------------+--------------------+--------------------+----------+----------------+------------------------+--------------------+---------------------+-------------------+-----------------------+--------------------+------------------+-------------+\n",
      "|Customer_ID|     Annual_Income|Monthly_Inhand_Salary|Num_Bank_Accounts|Num_Credit_Card|Interest_Rate|Num_of_Loan|        Type_of_Loan|Delay_from_due_date|Num_of_Delayed_Payment|Changed_Credit_Limit|Num_Credit_Inquiries|Credit_Mix|Outstanding_Debt|Credit_Utilization_Ratio|  Credit_History_Age|Payment_of_Min_Amount|Total_EMI_per_month|Amount_invested_monthly|   Payment_Behaviour|   Monthly_Balance|snapshot_date|\n",
      "+-----------+------------------+---------------------+-----------------+---------------+-------------+-----------+--------------------+-------------------+----------------------+--------------------+--------------------+----------+----------------+------------------------+--------------------+---------------------+-------------------+-----------------------+--------------------+------------------+-------------+\n",
      "| CUS_0x1000|          30625.94|   2706.1616666666664|                6|              5|           27|          2|Credit-Builder Lo...|                 57|                    26|                1.63|                11.0|       Bad|         1562.91|       30.07719135017377|10 Years and 9 Mo...|                  Yes| 42.941090422469365|      77.31427572208112|High_spent_Medium...|400.36080052211616|   2023-05-01|\n",
      "| CUS_0x1009|         52312.68_|              4250.39|                6|              5|           17|          4|Not Specified, Ho...|                  5|                    18|                9.73|                 4.0|         _|          202.68|         40.286996673783|31 Years and 0 Mo...|                  Yes| 108.36646712525564|      58.66019164829086|High_spent_Medium...|508.01234122645366|   2025-01-01|\n",
      "| CUS_0x100b|113781.38999999998|            9549.7825|                1|              4|            1|          0|                NULL|                 14|                     8|                8.34|                 4.0|      Good|          1030.2|       28.59294254083936|15 Years and 10 M...|                   No|                0.0|      617.0792665202719|High_spent_Small_...| 597.8989834797281|   2024-03-01|\n",
      "| CUS_0x1011|          58918.47|            5208.8725|                3|              3|           17|          3|Student Loan, Cre...|                 27|                    13|               14.42|                 7.0|  Standard|          473.14|       27.82995907548726|15 Years and 10 M...|                  Yes| 123.43493879634316|     383.35084463651407|Low_spent_Medium_...| 294.1014665671429|   2023-11-01|\n",
      "| CUS_0x1013|          98620.98|    7962.415000000001|                3|              3|            6|          3|Student Loan, Deb...|                 12|                     9|                1.33|                 3.0|      Good|         1233.51|       26.52486357896023|17 Years and 10 M...|                   No|   228.018083652734|      332.3337079767732|High_spent_Medium...| 485.8897083704929|   2023-12-01|\n",
      "+-----------+------------------+---------------------+-----------------+---------------+-------------+-----------+--------------------+-------------------+----------------------+--------------------+--------------------+----------+----------------+------------------------+--------------------+---------------------+-------------------+-----------------------+--------------------+------------------+-------------+\n",
      "only showing top 5 rows\n",
      "\n"
     ]
    }
   ],
   "source": [
    "from pyspark.sql import SparkSession\n",
    "from pyspark.sql.functions import col\n",
    "\n",
    "spark = SparkSession.builder.appName(\"test\").master(\"local[*]\").getOrCreate()\n",
    "\n",
    "df = spark.read.csv(\"data/features_financials.csv\", header=True, inferSchema=True)\n",
    "df.printSchema()\n",
    "df.show(5)"
   ]
  }
 ],
 "metadata": {
  "kernelspec": {
   "display_name": "Python 3",
   "language": "python",
   "name": "python3"
  },
  "language_info": {
   "codemirror_mode": {
    "name": "ipython",
    "version": 3
   },
   "file_extension": ".py",
   "mimetype": "text/x-python",
   "name": "python",
   "nbconvert_exporter": "python",
   "pygments_lexer": "ipython3",
   "version": "3.13.2"
  }
 },
 "nbformat": 4,
 "nbformat_minor": 5
}
